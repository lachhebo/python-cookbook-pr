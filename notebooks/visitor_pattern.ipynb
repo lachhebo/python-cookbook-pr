{
 "cells": [
  {
   "cell_type": "code",
   "execution_count": 3,
   "id": "9f56f2de",
   "metadata": {},
   "outputs": [],
   "source": [
    "class Node: \n",
    "    pass\n",
    "\n",
    "class UnaryOperator(Node):\n",
    "    def __init__(self, operand):\n",
    "        self.operand = operand\n",
    "        \n",
    "class BinaryOperator(Node):\n",
    "    def __init__(self, left, right):\n",
    "        self.left = left \n",
    "        self.right = right\n",
    "        \n",
    "class Add(BinaryOperator): \n",
    "    pass\n",
    "\n",
    "class Sub(BinaryOperator): \n",
    "    pass\n",
    "\n",
    "class Mul(BinaryOperator): \n",
    "    pass\n",
    "\n",
    "class Div(BinaryOperator): \n",
    "    pass\n",
    "\n",
    "class Negate(UnaryOperator): \n",
    "    pass\n",
    "\n",
    "class Number(Node):\n",
    "    def __init__(self, value):\n",
    "        self.value = value"
   ]
  },
  {
   "cell_type": "code",
   "execution_count": 4,
   "id": "224e709b",
   "metadata": {},
   "outputs": [],
   "source": [
    "# Representation of 1 + 2 * (3 - 4) / 5\n",
    "t1 = Sub(Number(3), Number(4)) \n",
    "t2 = Mul(Number(2), t1)\n",
    "t3 = Div(t2, Number(5))\n",
    "t4 = Add(Number(1), t3)"
   ]
  },
  {
   "cell_type": "markdown",
   "id": "501b1a61",
   "metadata": {},
   "source": [
    "# Comment on fait pour proccess ce code ? "
   ]
  },
  {
   "cell_type": "code",
   "execution_count": 5,
   "id": "83eeb85f",
   "metadata": {},
   "outputs": [],
   "source": [
    "class Evaluator():\n",
    "    \n",
    "    def visit_Number(self, node):\n",
    "        return node.value\n",
    "    \n",
    "    def visit_Add(self, node):\n",
    "        return self.visit(node.left) + self.visit(node.right)\n",
    "    \n",
    "    def visit_Sub(self, node):\n",
    "        return self.visit(node.left) - self.visit(node.right)\n",
    "    \n",
    "    def visit_Div(self, node):\n",
    "        return self.visit(node.left) / self.visit(node.right)\n",
    "    \n",
    "    def visit_Mul(self, node):\n",
    "        return self.visit(node.left) * self.visit(node.right)\n",
    "    \n",
    "    def visit_Negate(self,node):\n",
    "        return -node.operand\n",
    "        \n",
    "    def visit(self, node):\n",
    "        methname = 'visit_' + type(node).__name__\n",
    "        meth = getattr(self, methname, None)\n",
    "        if meth is None:\n",
    "            print('ERRRRO')\n",
    "            raise RuntimeError()\n",
    "        return meth(node)\n",
    "    "
   ]
  },
  {
   "cell_type": "code",
   "execution_count": 6,
   "id": "62306472",
   "metadata": {},
   "outputs": [
    {
     "data": {
      "text/plain": [
       "0.6"
      ]
     },
     "execution_count": 6,
     "metadata": {},
     "output_type": "execute_result"
    }
   ],
   "source": [
    "e = Evaluator()\n",
    "e.visit(t4)"
   ]
  }
 ],
 "metadata": {
  "kernelspec": {
   "display_name": "cookbook",
   "language": "python",
   "name": "cookbook"
  },
  "language_info": {
   "codemirror_mode": {
    "name": "ipython",
    "version": 3
   },
   "file_extension": ".py",
   "mimetype": "text/x-python",
   "name": "python",
   "nbconvert_exporter": "python",
   "pygments_lexer": "ipython3",
   "version": "3.9.0"
  }
 },
 "nbformat": 4,
 "nbformat_minor": 5
}
