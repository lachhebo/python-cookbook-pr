{
 "cells": [
  {
   "cell_type": "code",
   "execution_count": 4,
   "id": "2a58593b",
   "metadata": {},
   "outputs": [],
   "source": [
    "from urllib.request import urlopen"
   ]
  },
  {
   "cell_type": "code",
   "execution_count": 3,
   "id": "ee7f5e4c",
   "metadata": {},
   "outputs": [],
   "source": [
    "def multiplicateur(n):\n",
    "    \n",
    "    def multiplie(x):\n",
    "        return n*x\n",
    "    \n",
    "    return multiplie"
   ]
  },
  {
   "cell_type": "code",
   "execution_count": 6,
   "id": "38f3fa3f",
   "metadata": {},
   "outputs": [],
   "source": [
    "multiplicateur_2 = multiplicateur(2)\n",
    "multiplicateur_7 = multiplicateur(7)"
   ]
  },
  {
   "cell_type": "code",
   "execution_count": 5,
   "id": "49754cbc",
   "metadata": {},
   "outputs": [
    {
     "data": {
      "text/plain": [
       "8"
      ]
     },
     "execution_count": 5,
     "metadata": {},
     "output_type": "execute_result"
    }
   ],
   "source": [
    "multiplicateur_2(4)"
   ]
  },
  {
   "cell_type": "code",
   "execution_count": 7,
   "id": "d59f5c57",
   "metadata": {},
   "outputs": [
    {
     "data": {
      "text/plain": [
       "28"
      ]
     },
     "execution_count": 7,
     "metadata": {},
     "output_type": "execute_result"
    }
   ],
   "source": [
    "multiplicateur_7(4)"
   ]
  },
  {
   "cell_type": "code",
   "execution_count": 8,
   "id": "d91c7ee6",
   "metadata": {},
   "outputs": [],
   "source": [
    "def compter(n):\n",
    "    \n",
    "    def from_number():\n",
    "        nonlocal n\n",
    "        n = n+1\n",
    "        return n\n",
    "    \n",
    "    return from_number"
   ]
  },
  {
   "cell_type": "code",
   "execution_count": 9,
   "id": "b568a913",
   "metadata": {},
   "outputs": [],
   "source": [
    "com_6 = compter(6)"
   ]
  },
  {
   "cell_type": "code",
   "execution_count": 32,
   "id": "49a082dd",
   "metadata": {},
   "outputs": [
    {
     "data": {
      "text/plain": [
       "29"
      ]
     },
     "execution_count": 32,
     "metadata": {},
     "output_type": "execute_result"
    }
   ],
   "source": [
    "com_6()"
   ]
  },
  {
   "cell_type": "code",
   "execution_count": 33,
   "id": "e3e68866",
   "metadata": {},
   "outputs": [],
   "source": [
    "com55 = compter(55)"
   ]
  },
  {
   "cell_type": "code",
   "execution_count": 48,
   "id": "5423848b",
   "metadata": {},
   "outputs": [
    {
     "data": {
      "text/plain": [
       "70"
      ]
     },
     "execution_count": 48,
     "metadata": {},
     "output_type": "execute_result"
    }
   ],
   "source": [
    "com55()"
   ]
  }
 ],
 "metadata": {
  "kernelspec": {
   "display_name": "cookbook",
   "language": "python",
   "name": "cookbook"
  },
  "language_info": {
   "codemirror_mode": {
    "name": "ipython",
    "version": 3
   },
   "file_extension": ".py",
   "mimetype": "text/x-python",
   "name": "python",
   "nbconvert_exporter": "python",
   "pygments_lexer": "ipython3",
   "version": "3.9.0"
  }
 },
 "nbformat": 4,
 "nbformat_minor": 5
}
