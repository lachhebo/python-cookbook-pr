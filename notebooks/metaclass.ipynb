{
 "cells": [
  {
   "cell_type": "code",
   "execution_count": 4,
   "id": "638f06cc",
   "metadata": {},
   "outputs": [],
   "source": [
    "IsmaClass = type('IsmaClass', (), {'nom': 'isma'})"
   ]
  },
  {
   "cell_type": "code",
   "execution_count": 5,
   "id": "79eacbb1",
   "metadata": {},
   "outputs": [
    {
     "data": {
      "text/plain": [
       "<__main__.IsmaClass at 0x1076d5190>"
      ]
     },
     "execution_count": 5,
     "metadata": {},
     "output_type": "execute_result"
    }
   ],
   "source": [
    "IsmaClass()"
   ]
  },
  {
   "cell_type": "code",
   "execution_count": 6,
   "id": "2c5cc844",
   "metadata": {},
   "outputs": [
    {
     "data": {
      "text/plain": [
       "'isma'"
      ]
     },
     "execution_count": 6,
     "metadata": {},
     "output_type": "execute_result"
    }
   ],
   "source": [
    "IsmaClass().nom"
   ]
  },
  {
   "cell_type": "code",
   "execution_count": 11,
   "id": "e76ecaa4",
   "metadata": {},
   "outputs": [],
   "source": [
    "# exemple 1: une classe qu'on ne peut pas instancier\n",
    "class NoInstances(type):\n",
    "    def __call__(self):\n",
    "        raise ValueError('it is not possible to instanciate this class')\n",
    "\n",
    "class Spam(metaclass=NoInstances): \n",
    "    @staticmethod\n",
    "    def lourdement(x): \n",
    "        [ print(x) for _ in range(0,100) ]"
   ]
  },
  {
   "cell_type": "code",
   "execution_count": 14,
   "id": "c759e995",
   "metadata": {
    "collapsed": true
   },
   "outputs": [
    {
     "name": "stdout",
     "output_type": "stream",
     "text": [
      "test\n",
      "test\n",
      "test\n",
      "test\n",
      "test\n",
      "test\n",
      "test\n",
      "test\n",
      "test\n",
      "test\n",
      "test\n",
      "test\n",
      "test\n",
      "test\n",
      "test\n",
      "test\n",
      "test\n",
      "test\n",
      "test\n",
      "test\n",
      "test\n",
      "test\n",
      "test\n",
      "test\n",
      "test\n",
      "test\n",
      "test\n",
      "test\n",
      "test\n",
      "test\n",
      "test\n",
      "test\n",
      "test\n",
      "test\n",
      "test\n",
      "test\n",
      "test\n",
      "test\n",
      "test\n",
      "test\n",
      "test\n",
      "test\n",
      "test\n",
      "test\n",
      "test\n",
      "test\n",
      "test\n",
      "test\n",
      "test\n",
      "test\n",
      "test\n",
      "test\n",
      "test\n",
      "test\n",
      "test\n",
      "test\n",
      "test\n",
      "test\n",
      "test\n",
      "test\n",
      "test\n",
      "test\n",
      "test\n",
      "test\n",
      "test\n",
      "test\n",
      "test\n",
      "test\n",
      "test\n",
      "test\n",
      "test\n",
      "test\n",
      "test\n",
      "test\n",
      "test\n",
      "test\n",
      "test\n",
      "test\n",
      "test\n",
      "test\n",
      "test\n",
      "test\n",
      "test\n",
      "test\n",
      "test\n",
      "test\n",
      "test\n",
      "test\n",
      "test\n",
      "test\n",
      "test\n",
      "test\n",
      "test\n",
      "test\n",
      "test\n",
      "test\n",
      "test\n",
      "test\n",
      "test\n",
      "test\n"
     ]
    }
   ],
   "source": [
    "Spam.lourdement('test')"
   ]
  },
  {
   "cell_type": "code",
   "execution_count": 15,
   "id": "9d9be820",
   "metadata": {},
   "outputs": [],
   "source": [
    "# exemple 2:  une classe singleton \n",
    "class Singleton(type):\n",
    "    \n",
    "    def __init__(self, *args, **kwars):\n",
    "        self.__instance = None\n",
    "        super().__init__(*args, **kwars)\n",
    "        \n",
    "    \n",
    "    def __call__(self, *args, **kwargs):\n",
    "        if self.__instance is None:\n",
    "            self.__instance = super().__call__(*args, **kwargs)\n",
    "            return self.__instance\n",
    "        else:\n",
    "            return self.__instance\n",
    "        \n",
    "\n",
    "class Spam(metaclass=Singleton): \n",
    "    def __init__(self):\n",
    "        print('Creating Spam')"
   ]
  },
  {
   "cell_type": "code",
   "execution_count": 16,
   "id": "550527ac",
   "metadata": {},
   "outputs": [
    {
     "name": "stdout",
     "output_type": "stream",
     "text": [
      "Creating Spam\n"
     ]
    }
   ],
   "source": [
    "a = Spam()"
   ]
  },
  {
   "cell_type": "code",
   "execution_count": 17,
   "id": "8d176db0",
   "metadata": {},
   "outputs": [
    {
     "data": {
      "text/plain": [
       "__main__.Spam"
      ]
     },
     "execution_count": 17,
     "metadata": {},
     "output_type": "execute_result"
    }
   ],
   "source": [
    "type(a)"
   ]
  },
  {
   "cell_type": "code",
   "execution_count": 18,
   "id": "340c4d93",
   "metadata": {},
   "outputs": [],
   "source": [
    "b = Spam()"
   ]
  },
  {
   "cell_type": "code",
   "execution_count": 19,
   "id": "3e4ec96e",
   "metadata": {},
   "outputs": [
    {
     "data": {
      "text/plain": [
       "True"
      ]
     },
     "execution_count": 19,
     "metadata": {},
     "output_type": "execute_result"
    }
   ],
   "source": [
    "a is b"
   ]
  }
 ],
 "metadata": {
  "kernelspec": {
   "display_name": "cookbook",
   "language": "python",
   "name": "cookbook"
  },
  "language_info": {
   "codemirror_mode": {
    "name": "ipython",
    "version": 3
   },
   "file_extension": ".py",
   "mimetype": "text/x-python",
   "name": "python",
   "nbconvert_exporter": "python",
   "pygments_lexer": "ipython3",
   "version": "3.9.0"
  }
 },
 "nbformat": 4,
 "nbformat_minor": 5
}
