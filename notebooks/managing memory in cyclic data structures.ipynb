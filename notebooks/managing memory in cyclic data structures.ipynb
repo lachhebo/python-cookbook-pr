{
 "cells": [
  {
   "cell_type": "code",
   "execution_count": 2,
   "id": "2fd69873",
   "metadata": {},
   "outputs": [],
   "source": [
    "import gc\n",
    "\n",
    "\n",
    "class Data:\n",
    "    def __del__(self):     \n",
    "        print('Data.__del__')\n",
    "\n",
    "class Node:\n",
    "    def __init__(self):\n",
    "        self.data = Data() \n",
    "        self.parent = None\n",
    "        self.children = []\n",
    "        \n",
    "    def add_child(self, child):\n",
    "        self.children.append(child) \n",
    "        child.parent = self"
   ]
  },
  {
   "cell_type": "code",
   "execution_count": 3,
   "id": "1f9095fc",
   "metadata": {},
   "outputs": [],
   "source": [
    "data = Data()"
   ]
  },
  {
   "cell_type": "code",
   "execution_count": 4,
   "id": "9ec29a0f",
   "metadata": {
    "scrolled": true
   },
   "outputs": [
    {
     "name": "stdout",
     "output_type": "stream",
     "text": [
      "Data.__del__\n"
     ]
    }
   ],
   "source": [
    "del data"
   ]
  },
  {
   "cell_type": "code",
   "execution_count": 5,
   "id": "01c60898",
   "metadata": {},
   "outputs": [],
   "source": [
    "node = Node()"
   ]
  },
  {
   "cell_type": "code",
   "execution_count": 6,
   "id": "91cd091b",
   "metadata": {},
   "outputs": [
    {
     "name": "stdout",
     "output_type": "stream",
     "text": [
      "Data.__del__\n"
     ]
    }
   ],
   "source": [
    "del node"
   ]
  },
  {
   "cell_type": "code",
   "execution_count": 7,
   "id": "de407617",
   "metadata": {},
   "outputs": [],
   "source": [
    "node = Node()\n",
    "node.add_child(Node())\n",
    "del node"
   ]
  },
  {
   "cell_type": "code",
   "execution_count": 8,
   "id": "e8b2abaf",
   "metadata": {},
   "outputs": [
    {
     "name": "stdout",
     "output_type": "stream",
     "text": [
      "Data.__del__\n",
      "Data.__del__\n"
     ]
    },
    {
     "data": {
      "text/plain": [
       "113"
      ]
     },
     "execution_count": 8,
     "metadata": {},
     "output_type": "execute_result"
    }
   ],
   "source": [
    "gc.collect()"
   ]
  },
  {
   "cell_type": "code",
   "execution_count": 9,
   "id": "e1c85d59",
   "metadata": {},
   "outputs": [],
   "source": [
    "import weakref"
   ]
  },
  {
   "cell_type": "code",
   "execution_count": 12,
   "id": "6a4e8db7",
   "metadata": {},
   "outputs": [],
   "source": [
    "\n",
    "class Data:\n",
    "    def __del__(self):     \n",
    "        print('Data.__del__')\n",
    "\n",
    "class Node:\n",
    "    def __init__(self):\n",
    "        self.data = Data() \n",
    "        self.parent = None\n",
    "        self.children = []\n",
    "        \n",
    "    def add_child(self, child):\n",
    "        self.children.append(weakref.ref(child)) \n",
    "        child.parent = weakref.ref(self)"
   ]
  },
  {
   "cell_type": "code",
   "execution_count": 13,
   "id": "910e87a8",
   "metadata": {},
   "outputs": [
    {
     "name": "stdout",
     "output_type": "stream",
     "text": [
      "Data.__del__\n",
      "Data.__del__\n"
     ]
    }
   ],
   "source": [
    "node = Node()\n",
    "node.add_child(Node())\n",
    "del node"
   ]
  }
 ],
 "metadata": {
  "kernelspec": {
   "display_name": "cookbook",
   "language": "python",
   "name": "cookbook"
  },
  "language_info": {
   "codemirror_mode": {
    "name": "ipython",
    "version": 3
   },
   "file_extension": ".py",
   "mimetype": "text/x-python",
   "name": "python",
   "nbconvert_exporter": "python",
   "pygments_lexer": "ipython3",
   "version": "3.9.0"
  }
 },
 "nbformat": 4,
 "nbformat_minor": 5
}
