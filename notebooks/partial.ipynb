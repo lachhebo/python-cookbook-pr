{
 "cells": [
  {
   "cell_type": "code",
   "execution_count": 1,
   "id": "060dc21a",
   "metadata": {},
   "outputs": [],
   "source": [
    "def spam(a, b, c, d): \n",
    "    print(a, b, c, d)"
   ]
  },
  {
   "cell_type": "code",
   "execution_count": 2,
   "id": "19ea357f",
   "metadata": {},
   "outputs": [],
   "source": [
    "from functools import partial"
   ]
  },
  {
   "cell_type": "code",
   "execution_count": 3,
   "id": "4de7ff55",
   "metadata": {},
   "outputs": [],
   "source": [
    "spam_with_a_is_one = partial(spam, 1)"
   ]
  },
  {
   "cell_type": "code",
   "execution_count": 4,
   "id": "8b316da3",
   "metadata": {},
   "outputs": [
    {
     "name": "stdout",
     "output_type": "stream",
     "text": [
      "1 3 5 6\n"
     ]
    }
   ],
   "source": [
    "spam_with_a_is_one(3,5,6)"
   ]
  },
  {
   "cell_type": "code",
   "execution_count": 6,
   "id": "b6c5ed0c",
   "metadata": {},
   "outputs": [],
   "source": [
    "spam_simplified = partial(spam, 1,4,5)"
   ]
  },
  {
   "cell_type": "code",
   "execution_count": 8,
   "id": "eb541476",
   "metadata": {},
   "outputs": [
    {
     "name": "stdout",
     "output_type": "stream",
     "text": [
      "1 4 5 55\n"
     ]
    }
   ],
   "source": [
    "spam_simplified(55)"
   ]
  },
  {
   "cell_type": "code",
   "execution_count": 9,
   "id": "9de475a9",
   "metadata": {},
   "outputs": [],
   "source": [
    "spam_simplified = partial(spam, 1, d=44)"
   ]
  },
  {
   "cell_type": "code",
   "execution_count": 11,
   "id": "f3e9b2f9",
   "metadata": {},
   "outputs": [
    {
     "name": "stdout",
     "output_type": "stream",
     "text": [
      "1 33 55 44\n"
     ]
    }
   ],
   "source": [
    "spam_simplified(33,55)"
   ]
  }
 ],
 "metadata": {
  "kernelspec": {
   "display_name": "cookbook",
   "language": "python",
   "name": "cookbook"
  },
  "language_info": {
   "codemirror_mode": {
    "name": "ipython",
    "version": 3
   },
   "file_extension": ".py",
   "mimetype": "text/x-python",
   "name": "python",
   "nbconvert_exporter": "python",
   "pygments_lexer": "ipython3",
   "version": "3.9.0"
  }
 },
 "nbformat": 4,
 "nbformat_minor": 5
}
